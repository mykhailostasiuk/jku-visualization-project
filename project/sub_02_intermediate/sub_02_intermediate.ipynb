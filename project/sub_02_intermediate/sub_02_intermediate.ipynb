{
 "cells": [
  {
   "cell_type": "markdown",
   "id": "90b855c1",
   "metadata": {},
   "source": [
    "# Submission 2 &ndash; Intermediate Submission\n",
    "\n",
    "## Instructions\n",
    "\n",
    "- Fill out the *Basic Information* and the *Results* sections.\n",
    "- Make sure that this `.ipynb` file displays correctly in the GitHub file preview, including any visual output.\n",
    "- If you find that any output does not display correctly, include a static screenshot as an image. For interactive outputs, add a link to a short screencast located in your repository.\n",
    "- Push all required files before the deadline."
   ]
  },
  {
   "cell_type": "markdown",
   "id": "8aa83fea-80cf-4296-9765-410daf7c296d",
   "metadata": {},
   "source": [
    "---\n",
    "## Basic Information"
   ]
  },
  {
   "cell_type": "markdown",
   "id": "99b65e2d-2bee-4e12-ac82-8b31b972d850",
   "metadata": {},
   "source": [
    "**Team Name:** TODO"
   ]
  },
  {
   "cell_type": "markdown",
   "id": "230d9ba1-6ba9-4708-b8d8-39d9502fab44",
   "metadata": {},
   "source": [
    "**Team Members:**\n",
    "- TODO\n",
    "- TODO\n",
    "- TODO\n",
    "- TODO"
   ]
  },
  {
   "cell_type": "markdown",
   "id": "ec9668fc-28d6-4adf-ae4d-aafb4781f936",
   "metadata": {},
   "source": [
    "**Dataset Description:**  \n",
    "(max. 75 words; this serves just as a reminder)"
   ]
  },
  {
   "cell_type": "markdown",
   "id": "4bbce0ac-0a1e-455e-bcd3-5a258cb033ec",
   "metadata": {},
   "source": [
    "< Your dataset description goes here >"
   ]
  },
  {
   "cell_type": "markdown",
   "id": "04352fd2-6482-423f-8def-6f713c65c597",
   "metadata": {},
   "source": [
    "---\n",
    "\n",
    "## Code\n",
    "\n",
    "Here you may place any code that is not an immediate part of your submission. Only the content of the *Results* sections will be graded for this submission."
   ]
  },
  {
   "cell_type": "code",
   "execution_count": null,
   "id": "5b31f150",
   "metadata": {
    "vscode": {
     "languageId": "plaintext"
    }
   },
   "outputs": [],
   "source": []
  },
  {
   "cell_type": "markdown",
   "id": "c6ce32bc",
   "metadata": {},
   "source": [
    "---\n",
    "## Results &ndash; Simple Hypotheses/Tasks"
   ]
  },
  {
   "cell_type": "markdown",
   "id": "2b170d32-4ad8-479c-aae8-35b9b816db82",
   "metadata": {
    "tags": []
   },
   "source": [
    "### A.1\n",
    "\n",
    "Restate your hypothesis/task below."
   ]
  },
  {
   "cell_type": "markdown",
   "id": "19e7220b",
   "metadata": {},
   "source": [
    "**Hypthesis/Task A.1:** TODO"
   ]
  },
  {
   "cell_type": "markdown",
   "id": "88cef7c6",
   "metadata": {},
   "source": [
    "Place your visualizations below (max. 2). Make sure that everyting displays correctly in the GitHub file preview."
   ]
  },
  {
   "cell_type": "markdown",
   "id": "0de027b6",
   "metadata": {},
   "source": [
    "TODO"
   ]
  },
  {
   "cell_type": "markdown",
   "id": "cb7a2861-c731-4858-8ca9-4fca8e5190ae",
   "metadata": {},
   "source": [
    "Describe your visualizations and findings. Be clear which chart(s) you are referring to and relate your findings to the hypothesis/task.\n",
    "Use no more than 150 words and indicate the word count of your description below."
   ]
  },
  {
   "cell_type": "markdown",
   "id": "45801f81-8025-4af6-b318-836c50d56edd",
   "metadata": {},
   "source": [
    "**Description:** TODO\n",
    "\n",
    "**Word count**: TODO"
   ]
  },
  {
   "cell_type": "markdown",
   "id": "75ef0baf",
   "metadata": {},
   "source": [
    "### A.2\n",
    "\n",
    "Restate your hypothesis/task below."
   ]
  },
  {
   "cell_type": "markdown",
   "id": "9cce0167",
   "metadata": {},
   "source": [
    "**Hypthesis/Task A.2:** TODO"
   ]
  },
  {
   "cell_type": "markdown",
   "id": "179cd61e",
   "metadata": {},
   "source": [
    "Place your visualizations below (max. 2). Make sure that everyting displays correctly in the GitHub file preview."
   ]
  },
  {
   "cell_type": "markdown",
   "id": "5062f9d6",
   "metadata": {},
   "source": [
    "TODO"
   ]
  },
  {
   "cell_type": "markdown",
   "id": "43da1e21",
   "metadata": {},
   "source": [
    "Describe your visualizations and findings. Be clear which chart(s) you are referring to and relate your findings to the hypothesis/task. Use no more than 150 words and indicate the word count of your description below."
   ]
  },
  {
   "cell_type": "markdown",
   "id": "f7aac895",
   "metadata": {},
   "source": [
    "**Description:** TODO\n",
    "\n",
    "**Word count**: TODO"
   ]
  }
 ],
 "metadata": {
  "kernelspec": {
   "display_name": "Python 3 (ipykernel)",
   "language": "python",
   "name": "python3"
  },
  "language_info": {
   "codemirror_mode": {
    "name": "ipython",
    "version": 3
   },
   "file_extension": ".py",
   "mimetype": "text/x-python",
   "name": "python",
   "nbconvert_exporter": "python",
   "pygments_lexer": "ipython3",
   "version": "3.10.6"
  }
 },
 "nbformat": 4,
 "nbformat_minor": 5
}
