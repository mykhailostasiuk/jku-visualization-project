{
 "cells": [
  {
   "cell_type": "markdown",
   "id": "06fe92e2-ddd0-4a2a-a479-d7d6a7e7a85d",
   "metadata": {},
   "source": [
    "# Submission 1 &ndash; Proposal\n",
    "\n",
    "## Instructions\n",
    "\n",
    "- Fill out the *Team Information*, *Dataset Description* and *Hypotheses/Tasks* sections.\n",
    "- Make sure that this `.ipynb` file displays correctly in the GitHub file preview.\n",
    "- Push all required files before the deadline."
   ]
  },
  {
   "cell_type": "markdown",
   "id": "10010851-a1ba-474b-b165-748017334668",
   "metadata": {
    "tags": []
   },
   "source": [
    "---\n",
    "## Team Information"
   ]
  },
  {
   "cell_type": "markdown",
   "id": "d23dd551-b591-4365-8738-3d950ce8c46e",
   "metadata": {},
   "source": [
    "**Team Name:** TODO"
   ]
  },
  {
   "cell_type": "markdown",
   "id": "2ae4f196-e767-4a8b-ab00-075fe059f008",
   "metadata": {},
   "source": [
    "**Team Members:**\n",
    "- TODO\n",
    "- TODO\n",
    "- TODO\n",
    "- TODO"
   ]
  },
  {
   "cell_type": "markdown",
   "id": "e48444d8-421f-49c0-bde8-4d7517b387fa",
   "metadata": {
    "tags": []
   },
   "source": [
    "---\n",
    "## Dataset Description\n",
    "\n",
    "Describe the dataset in your own words. What is it about? What are the attribtues? Why did you choose it? What makes it interesting? How big is? Where did you obtain it from?\n",
    "Use sentences or bullet points and no more than 250 words. Indicate the word count below."
   ]
  },
  {
   "cell_type": "markdown",
   "id": "13cf16a3",
   "metadata": {},
   "source": [
    "**Description:** < Your dataset description goes here >"
   ]
  },
  {
   "cell_type": "markdown",
   "id": "800ab400",
   "metadata": {},
   "source": [
    "**Word count:** TODO"
   ]
  },
  {
   "cell_type": "markdown",
   "id": "1342c4f0-3978-4c13-bb60-f5f5815009fe",
   "metadata": {},
   "source": [
    "---\n",
    "## Hypotheses/Tasks\n",
    "\n",
    "Describe what you plan to work on. You can either frame your plans as hypotheses about the dataset or as tasks that you wish to address with your visualizations. Be specific but concise. Each description should not be longer than two sentences. Indicate whether you framed your plans as hypotheses or tasks (use `**Hypothesis** / ~~Task~~` or `~~Hypothesis~~ / **Task**` in markdown)."
   ]
  },
  {
   "cell_type": "markdown",
   "id": "0ea83f81-efb3-44dc-873d-9a47c53de7cf",
   "metadata": {},
   "source": [
    "### A &ndash; Simple Hypotheses/Tasks"
   ]
  },
  {
   "cell_type": "markdown",
   "id": "24d69728-a81b-4c00-b292-a6ead0c36c55",
   "metadata": {},
   "source": [
    "#### A.1\n",
    "\n",
    "**Hypothesis** / ~~Task~~\n",
    "\n",
    "< Your description goes here >"
   ]
  },
  {
   "cell_type": "markdown",
   "id": "8bd9a189-89ff-490d-81f6-98cb9c515565",
   "metadata": {},
   "source": [
    "#### A.2\n",
    "\n",
    "**Hypothesis** / ~~Task~~\n",
    "\n",
    "< Your description goes here >"
   ]
  },
  {
   "cell_type": "markdown",
   "id": "57435e11-867f-409c-964c-77e162e38d75",
   "metadata": {},
   "source": [
    "### B &ndash; Complex Hypotheses/Tasks"
   ]
  },
  {
   "cell_type": "markdown",
   "id": "eb295345-93fc-4dfb-8fec-dd37d8d34fba",
   "metadata": {},
   "source": [
    "### B.1\n",
    "\n",
    "**Hypothesis** / ~~Task~~\n",
    "\n",
    "< Your description goes here >"
   ]
  },
  {
   "cell_type": "markdown",
   "id": "fc3b54ae-77b0-45f3-960e-5e640b760b96",
   "metadata": {},
   "source": [
    "#### B.2\n",
    "\n",
    "**Hypothesis** / ~~Task~~\n",
    "\n",
    "< Your description goes here >"
   ]
  },
  {
   "cell_type": "markdown",
   "id": "71286767",
   "metadata": {},
   "source": []
  }
 ],
 "metadata": {
  "kernelspec": {
   "display_name": "Python 3 (ipykernel)",
   "language": "python",
   "name": "python3"
  },
  "language_info": {
   "codemirror_mode": {
    "name": "ipython",
    "version": 3
   },
   "file_extension": ".py",
   "mimetype": "text/x-python",
   "name": "python",
   "nbconvert_exporter": "python",
   "pygments_lexer": "ipython3",
   "version": "3.10.6"
  }
 },
 "nbformat": 4,
 "nbformat_minor": 5
}
